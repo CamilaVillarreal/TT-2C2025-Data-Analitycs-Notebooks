{
  "nbformat": 4,
  "nbformat_minor": 0,
  "metadata": {
    "colab": {
      "provenance": [],
      "toc_visible": true,
      "authorship_tag": "ABX9TyNkCD8VO0AXO4WBRBVsx2sZ"
    },
    "kernelspec": {
      "name": "python3",
      "display_name": "Python 3"
    },
    "language_info": {
      "name": "python"
    }
  },
  "cells": [
    {
      "cell_type": "markdown",
      "source": [
        "# Métodos para importar datasets con Pandas"
      ],
      "metadata": {
        "id": "AtJpnsxspqt4"
      }
    },
    {
      "cell_type": "markdown",
      "source": [
        "Links que vamos a usar:"
      ],
      "metadata": {
        "id": "SQPoi9uIfUJd"
      }
    },
    {
      "cell_type": "markdown",
      "source": [
        "* [Blog Kaggle - International Hotel Booking Analytics](https://www.kaggle.com/code/sonawanelalitsunil/international-hotel-booking-analytics-ml-34-75/notebook)\n",
        "* [Datasets Kaggle - International Hotel Booking Analytics](https://www.kaggle.com/datasets/alperenmyung/international-hotel-booking-analytics)\n",
        "* [Dataset Github - LifeExpectancy ](https://raw.githubusercontent.com/resbaz/r-novice-gapminder-files/master/data/gapminder-FiveYearData.csv)\n",
        "* [Dataset Kaggle - Netflix](https://www.kaggle.com/datasets/shivamb/netflix-shows/code)"
      ],
      "metadata": {
        "id": "5CDwBA2tpt23"
      }
    },
    {
      "cell_type": "markdown",
      "source": [
        "# 1. Descargar los datasets (archivos .csv) antes de comenzar"
      ],
      "metadata": {
        "id": "z8RTgLrAwjy3"
      }
    },
    {
      "cell_type": "markdown",
      "source": [
        "* Opción 1:\n",
        "Decargarlos desde el Repositorio Oficial del Curso [Click Aquí](https://drive.google.com/drive/folders/1LI3HcSqcrSJ52YZAoQG0NNmdOnHVSJHG)\n",
        "* Opción 2:\n",
        "Decargarlos desde Kaggle [Click Aquí](https://www.kaggle.com/datasets/alperenmyung/international-hotel-booking-analytics) - Haciendo click en el botón Download/Descargar (Debe descomprimir el archivo \"archive.zip\")"
      ],
      "metadata": {
        "id": "-wNMH1OGhWBl"
      }
    },
    {
      "cell_type": "markdown",
      "source": [
        "# 2. Preparar los archivos en Google Drive"
      ],
      "metadata": {
        "id": "kj6GV85devHf"
      }
    },
    {
      "cell_type": "markdown",
      "source": [
        "1. Crear en su unidad de Google Drive la carpeta \"datasets\"\n",
        "2. Subir a esa carpeta los archivos:\n",
        "* hotels.csv\n",
        "* reviews.csv\n",
        "* users.csv"
      ],
      "metadata": {
        "id": "bHoI91tiiyqX"
      }
    },
    {
      "cell_type": "markdown",
      "source": [
        "# 3 Montar y liberar la unidad"
      ],
      "metadata": {
        "id": "FldXXQ72929y"
      }
    },
    {
      "cell_type": "markdown",
      "source": [
        "Este código permite montar la unidad de su Drive en este ambiente virtual de Colab"
      ],
      "metadata": {
        "id": "mkFHp34GjGgf"
      }
    },
    {
      "cell_type": "code",
      "source": [
        "# Montar la unidad\n",
        "from google.colab import drive\n",
        "drive.mount('/content/drive')"
      ],
      "metadata": {
        "id": "ALDG9MtAz268",
        "outputId": "5fcd2e4a-543f-4a0b-a236-ef4b14ae143f",
        "colab": {
          "base_uri": "https://localhost:8080/"
        }
      },
      "execution_count": 1,
      "outputs": [
        {
          "output_type": "stream",
          "name": "stdout",
          "text": [
            "Mounted at /content/drive\n"
          ]
        }
      ]
    },
    {
      "cell_type": "markdown",
      "source": [
        "Al finalizar la actividad o en caso que lo requiera, puede desmontar la unidad con este código"
      ],
      "metadata": {
        "id": "7FrKv6kojR4v"
      }
    },
    {
      "cell_type": "code",
      "source": [
        "# Liberar la unidad\n",
        "drive.flush_and_unmount()"
      ],
      "metadata": {
        "id": "5ZhjulY-8wb1"
      },
      "execution_count": null,
      "outputs": []
    },
    {
      "cell_type": "markdown",
      "source": [
        "# 4. Importar datasets"
      ],
      "metadata": {
        "id": "-Gr5xwCMjjCQ"
      }
    },
    {
      "cell_type": "markdown",
      "source": [
        "A continuación veremos varias opciones para importar datasets a Google Colab usando Pandas, el método dependerá de la necesidad y de sus conocimientos, por ello se plantean varios escenarios para cada nivel."
      ],
      "metadata": {
        "id": "27BIEobVjmNt"
      }
    },
    {
      "cell_type": "markdown",
      "source": [
        "## 4.1 Importar datasets desde Google Sheets  (Nivel Inicial)"
      ],
      "metadata": {
        "id": "vWgQoVMd0hVQ"
      }
    },
    {
      "cell_type": "code",
      "source": [
        "# Importar la librería Pandas\n",
        "import pandas as pd"
      ],
      "metadata": {
        "id": "M_2t2dgOkFdO"
      },
      "execution_count": null,
      "outputs": []
    },
    {
      "cell_type": "code",
      "source": [
        "# Acceso a Gsheets - Metodo con URL de conversion a CSV (lectura)\n",
        "# El archivo debe tener permisos de lectura para TODOS\n",
        "ID_planilla = '1LeWVQ0Pd9XlQ70oTWggueRGLBXISMTGDiLG7wZ6otSI'\n",
        "URL = f'https://docs.google.com/spreadsheets/d/{ID_planilla}/gviz/tq?tqx=out:csv&sheet='\n",
        "df_gs = pd.read_csv(URL + 'ventas')\n",
        "df_gs.head()"
      ],
      "metadata": {
        "id": "BPWfIZPf0iDx"
      },
      "execution_count": null,
      "outputs": []
    },
    {
      "cell_type": "markdown",
      "source": [
        "## 4.2 Importar datasets desde Google Drive  (Nivel Inicial)\n"
      ],
      "metadata": {
        "id": "QlUQhrm2yces"
      }
    },
    {
      "cell_type": "markdown",
      "source": [
        "En esta instancia, ya deberías tener creada la carpeta `datasets` en el raíz de tu Unidad de Google Drive, y ahi haber subido los archivos csv que vamos a usar"
      ],
      "metadata": {
        "id": "pAweq7H_QL5u"
      }
    },
    {
      "cell_type": "code",
      "source": [
        "# Verificar que los archivos csv se encuentren en la carpeta datasets\n",
        "import os\n",
        "os.listdir(\"/content/drive/MyDrive/datasets\")"
      ],
      "metadata": {
        "id": "KHgehMBJQGx8"
      },
      "execution_count": null,
      "outputs": []
    },
    {
      "cell_type": "code",
      "source": [
        "# Importar la librería Pandas\n",
        "import pandas as pd"
      ],
      "metadata": {
        "id": "9tdTFMOFSd0-"
      },
      "execution_count": null,
      "outputs": []
    },
    {
      "cell_type": "code",
      "source": [
        "# Usar el método read_csv de Pandas (pd) que recibe como argumento el archivo csv y retorna un dataframe\n",
        "df_users = pd.read_csv('/content/drive/MyDrive/datasets/users.csv')\n",
        "df_users.head()"
      ],
      "metadata": {
        "id": "mp6tO9sqQk1q"
      },
      "execution_count": null,
      "outputs": []
    },
    {
      "cell_type": "markdown",
      "source": [
        "## 4.3 Importar datasets desde Google Drive (Nivel Intermedio)"
      ],
      "metadata": {
        "id": "oRcDT__OQ4pI"
      }
    },
    {
      "cell_type": "markdown",
      "source": [
        "Si van a trabajar con datasets que se encuentran en diferentes carpetas, puden cambiar la ruta por defecto"
      ],
      "metadata": {
        "id": "j1BXJiltPA5f"
      }
    },
    {
      "cell_type": "markdown",
      "source": [
        "1. Se sugiere usar el panel de navegación laterar para explorar las carpetas y sus archivos.\n",
        "2. Cambiar la ruta original al directorio donde se encuentran los archivos .csv que se quieren importar"
      ],
      "metadata": {
        "id": "Z8MPOaF8-LdM"
      }
    },
    {
      "cell_type": "code",
      "source": [
        "# Validar la ruta y la existencia del archivo csv a importar\n",
        "import os\n",
        "os.chdir(\"/content/drive/MyDrive/TT2C2025 - Data Analytics con Python/Repositorio Notebooks de clases/Clase 3/Datasets\")\n",
        "os.listdir(\".\")"
      ],
      "metadata": {
        "id": "2iYzc0hM16_x"
      },
      "execution_count": null,
      "outputs": []
    },
    {
      "cell_type": "code",
      "source": [
        "# Importar la librería Pandas\n",
        "import pandas as pd"
      ],
      "metadata": {
        "id": "xOSUn5XEUz4B"
      },
      "execution_count": null,
      "outputs": []
    },
    {
      "cell_type": "code",
      "source": [
        "# Usar el método read_csv de Pandas (pd) que recibe como argumento el archivo csv y retorna un dataframe\n",
        "df = pd.read_csv('users.csv')\n",
        "df.head()"
      ],
      "metadata": {
        "id": "Q7hYj8kd0HaR"
      },
      "execution_count": null,
      "outputs": []
    },
    {
      "cell_type": "markdown",
      "source": [
        "## 4.4 Importar datasets desde Github"
      ],
      "metadata": {
        "id": "HNxpXDs_4ESy"
      }
    },
    {
      "cell_type": "code",
      "source": [
        "# Cargar en una variable la URL del archivo csv de Github\n",
        "url = \"https://raw.githubusercontent.com/resbaz/r-novice-gapminder-files/master/data/gapminder-FiveYearData.csv\"\n",
        "url_delitos= \"https://raw.githubusercontent.com/No-Country-simulation/equipo-c24-03-m-data/refs/heads/main/data/delitos2021_procesados_comas.csv\""
      ],
      "metadata": {
        "id": "gceBkvvkU9U2"
      },
      "execution_count": 2,
      "outputs": []
    },
    {
      "cell_type": "code",
      "source": [
        "# Importar la librería Pandas\n",
        "import pandas as pd"
      ],
      "metadata": {
        "id": "CeJUej9D4R6m"
      },
      "execution_count": 3,
      "outputs": []
    },
    {
      "cell_type": "code",
      "source": [
        "# Usar el método read_csv de Pandas (pd) que recibe como argumento el archivo csv y retorna un dataframe\n",
        "df_github = pd.read_csv(url_delitos, sep=\";\" )\n",
        "df_github.head()"
      ],
      "metadata": {
        "id": "jAThz1QOVGt9",
        "outputId": "edc68d04-4332-4cff-f2ae-0df122bf2ac7",
        "colab": {
          "base_uri": "https://localhost:8080/",
          "height": 330
        }
      },
      "execution_count": 5,
      "outputs": [
        {
          "output_type": "execute_result",
          "data": {
            "text/plain": [
              "   id-mapa  anio      mes        dia                      fecha  franja  \\\n",
              "0   110639  2021  OCTUBRE  MIERCOLES  2021-10-06 00:00:00+00:00     0.0   \n",
              "1   110640  2021  OCTUBRE     JUEVES  2021-10-07 00:00:00+00:00    23.0   \n",
              "2   110641  2021  OCTUBRE  MIERCOLES  2021-10-06 00:00:00+00:00    12.0   \n",
              "3   110642  2021  OCTUBRE     JUEVES  2021-10-07 00:00:00+00:00    20.0   \n",
              "4   110643  2021  OCTUBRE     SABADO  2021-10-09 00:00:00+00:00    11.0   \n",
              "\n",
              "    tipo      subtipo uso_arma uso_moto           barrio  comuna     latitud  \\\n",
              "0  Hurto  Hurto total       NO       NO  VELEZ SARSFIELD    10.0  -34,631129   \n",
              "1   Robo   Robo total       NO       NO  VELEZ SARSFIELD    10.0  -34,624628   \n",
              "2   Robo   Robo total       SI       NO     MONTE CASTRO    10.0  -34,623213   \n",
              "3   Robo   Robo total       NO       NO  VELEZ SARSFIELD    10.0  -34,627172   \n",
              "4  Hurto  Hurto total       NO       NO         FLORESTA    10.0  -34,626978   \n",
              "\n",
              "     longitud  cantidad  \n",
              "0  -58,489377         1  \n",
              "1  -58,501039         1  \n",
              "2  -58,510132         1  \n",
              "3  -58,498928         1  \n",
              "4  -58,483313         1  "
            ],
            "text/html": [
              "\n",
              "  <div id=\"df-4efd198a-1569-40e6-a8f9-09ad2ebc613b\" class=\"colab-df-container\">\n",
              "    <div>\n",
              "<style scoped>\n",
              "    .dataframe tbody tr th:only-of-type {\n",
              "        vertical-align: middle;\n",
              "    }\n",
              "\n",
              "    .dataframe tbody tr th {\n",
              "        vertical-align: top;\n",
              "    }\n",
              "\n",
              "    .dataframe thead th {\n",
              "        text-align: right;\n",
              "    }\n",
              "</style>\n",
              "<table border=\"1\" class=\"dataframe\">\n",
              "  <thead>\n",
              "    <tr style=\"text-align: right;\">\n",
              "      <th></th>\n",
              "      <th>id-mapa</th>\n",
              "      <th>anio</th>\n",
              "      <th>mes</th>\n",
              "      <th>dia</th>\n",
              "      <th>fecha</th>\n",
              "      <th>franja</th>\n",
              "      <th>tipo</th>\n",
              "      <th>subtipo</th>\n",
              "      <th>uso_arma</th>\n",
              "      <th>uso_moto</th>\n",
              "      <th>barrio</th>\n",
              "      <th>comuna</th>\n",
              "      <th>latitud</th>\n",
              "      <th>longitud</th>\n",
              "      <th>cantidad</th>\n",
              "    </tr>\n",
              "  </thead>\n",
              "  <tbody>\n",
              "    <tr>\n",
              "      <th>0</th>\n",
              "      <td>110639</td>\n",
              "      <td>2021</td>\n",
              "      <td>OCTUBRE</td>\n",
              "      <td>MIERCOLES</td>\n",
              "      <td>2021-10-06 00:00:00+00:00</td>\n",
              "      <td>0.0</td>\n",
              "      <td>Hurto</td>\n",
              "      <td>Hurto total</td>\n",
              "      <td>NO</td>\n",
              "      <td>NO</td>\n",
              "      <td>VELEZ SARSFIELD</td>\n",
              "      <td>10.0</td>\n",
              "      <td>-34,631129</td>\n",
              "      <td>-58,489377</td>\n",
              "      <td>1</td>\n",
              "    </tr>\n",
              "    <tr>\n",
              "      <th>1</th>\n",
              "      <td>110640</td>\n",
              "      <td>2021</td>\n",
              "      <td>OCTUBRE</td>\n",
              "      <td>JUEVES</td>\n",
              "      <td>2021-10-07 00:00:00+00:00</td>\n",
              "      <td>23.0</td>\n",
              "      <td>Robo</td>\n",
              "      <td>Robo total</td>\n",
              "      <td>NO</td>\n",
              "      <td>NO</td>\n",
              "      <td>VELEZ SARSFIELD</td>\n",
              "      <td>10.0</td>\n",
              "      <td>-34,624628</td>\n",
              "      <td>-58,501039</td>\n",
              "      <td>1</td>\n",
              "    </tr>\n",
              "    <tr>\n",
              "      <th>2</th>\n",
              "      <td>110641</td>\n",
              "      <td>2021</td>\n",
              "      <td>OCTUBRE</td>\n",
              "      <td>MIERCOLES</td>\n",
              "      <td>2021-10-06 00:00:00+00:00</td>\n",
              "      <td>12.0</td>\n",
              "      <td>Robo</td>\n",
              "      <td>Robo total</td>\n",
              "      <td>SI</td>\n",
              "      <td>NO</td>\n",
              "      <td>MONTE CASTRO</td>\n",
              "      <td>10.0</td>\n",
              "      <td>-34,623213</td>\n",
              "      <td>-58,510132</td>\n",
              "      <td>1</td>\n",
              "    </tr>\n",
              "    <tr>\n",
              "      <th>3</th>\n",
              "      <td>110642</td>\n",
              "      <td>2021</td>\n",
              "      <td>OCTUBRE</td>\n",
              "      <td>JUEVES</td>\n",
              "      <td>2021-10-07 00:00:00+00:00</td>\n",
              "      <td>20.0</td>\n",
              "      <td>Robo</td>\n",
              "      <td>Robo total</td>\n",
              "      <td>NO</td>\n",
              "      <td>NO</td>\n",
              "      <td>VELEZ SARSFIELD</td>\n",
              "      <td>10.0</td>\n",
              "      <td>-34,627172</td>\n",
              "      <td>-58,498928</td>\n",
              "      <td>1</td>\n",
              "    </tr>\n",
              "    <tr>\n",
              "      <th>4</th>\n",
              "      <td>110643</td>\n",
              "      <td>2021</td>\n",
              "      <td>OCTUBRE</td>\n",
              "      <td>SABADO</td>\n",
              "      <td>2021-10-09 00:00:00+00:00</td>\n",
              "      <td>11.0</td>\n",
              "      <td>Hurto</td>\n",
              "      <td>Hurto total</td>\n",
              "      <td>NO</td>\n",
              "      <td>NO</td>\n",
              "      <td>FLORESTA</td>\n",
              "      <td>10.0</td>\n",
              "      <td>-34,626978</td>\n",
              "      <td>-58,483313</td>\n",
              "      <td>1</td>\n",
              "    </tr>\n",
              "  </tbody>\n",
              "</table>\n",
              "</div>\n",
              "    <div class=\"colab-df-buttons\">\n",
              "\n",
              "  <div class=\"colab-df-container\">\n",
              "    <button class=\"colab-df-convert\" onclick=\"convertToInteractive('df-4efd198a-1569-40e6-a8f9-09ad2ebc613b')\"\n",
              "            title=\"Convert this dataframe to an interactive table.\"\n",
              "            style=\"display:none;\">\n",
              "\n",
              "  <svg xmlns=\"http://www.w3.org/2000/svg\" height=\"24px\" viewBox=\"0 -960 960 960\">\n",
              "    <path d=\"M120-120v-720h720v720H120Zm60-500h600v-160H180v160Zm220 220h160v-160H400v160Zm0 220h160v-160H400v160ZM180-400h160v-160H180v160Zm440 0h160v-160H620v160ZM180-180h160v-160H180v160Zm440 0h160v-160H620v160Z\"/>\n",
              "  </svg>\n",
              "    </button>\n",
              "\n",
              "  <style>\n",
              "    .colab-df-container {\n",
              "      display:flex;\n",
              "      gap: 12px;\n",
              "    }\n",
              "\n",
              "    .colab-df-convert {\n",
              "      background-color: #E8F0FE;\n",
              "      border: none;\n",
              "      border-radius: 50%;\n",
              "      cursor: pointer;\n",
              "      display: none;\n",
              "      fill: #1967D2;\n",
              "      height: 32px;\n",
              "      padding: 0 0 0 0;\n",
              "      width: 32px;\n",
              "    }\n",
              "\n",
              "    .colab-df-convert:hover {\n",
              "      background-color: #E2EBFA;\n",
              "      box-shadow: 0px 1px 2px rgba(60, 64, 67, 0.3), 0px 1px 3px 1px rgba(60, 64, 67, 0.15);\n",
              "      fill: #174EA6;\n",
              "    }\n",
              "\n",
              "    .colab-df-buttons div {\n",
              "      margin-bottom: 4px;\n",
              "    }\n",
              "\n",
              "    [theme=dark] .colab-df-convert {\n",
              "      background-color: #3B4455;\n",
              "      fill: #D2E3FC;\n",
              "    }\n",
              "\n",
              "    [theme=dark] .colab-df-convert:hover {\n",
              "      background-color: #434B5C;\n",
              "      box-shadow: 0px 1px 3px 1px rgba(0, 0, 0, 0.15);\n",
              "      filter: drop-shadow(0px 1px 2px rgba(0, 0, 0, 0.3));\n",
              "      fill: #FFFFFF;\n",
              "    }\n",
              "  </style>\n",
              "\n",
              "    <script>\n",
              "      const buttonEl =\n",
              "        document.querySelector('#df-4efd198a-1569-40e6-a8f9-09ad2ebc613b button.colab-df-convert');\n",
              "      buttonEl.style.display =\n",
              "        google.colab.kernel.accessAllowed ? 'block' : 'none';\n",
              "\n",
              "      async function convertToInteractive(key) {\n",
              "        const element = document.querySelector('#df-4efd198a-1569-40e6-a8f9-09ad2ebc613b');\n",
              "        const dataTable =\n",
              "          await google.colab.kernel.invokeFunction('convertToInteractive',\n",
              "                                                    [key], {});\n",
              "        if (!dataTable) return;\n",
              "\n",
              "        const docLinkHtml = 'Like what you see? Visit the ' +\n",
              "          '<a target=\"_blank\" href=https://colab.research.google.com/notebooks/data_table.ipynb>data table notebook</a>'\n",
              "          + ' to learn more about interactive tables.';\n",
              "        element.innerHTML = '';\n",
              "        dataTable['output_type'] = 'display_data';\n",
              "        await google.colab.output.renderOutput(dataTable, element);\n",
              "        const docLink = document.createElement('div');\n",
              "        docLink.innerHTML = docLinkHtml;\n",
              "        element.appendChild(docLink);\n",
              "      }\n",
              "    </script>\n",
              "  </div>\n",
              "\n",
              "\n",
              "    <div id=\"df-91b5c1cc-1896-428d-bdae-9193d67106d0\">\n",
              "      <button class=\"colab-df-quickchart\" onclick=\"quickchart('df-91b5c1cc-1896-428d-bdae-9193d67106d0')\"\n",
              "                title=\"Suggest charts\"\n",
              "                style=\"display:none;\">\n",
              "\n",
              "<svg xmlns=\"http://www.w3.org/2000/svg\" height=\"24px\"viewBox=\"0 0 24 24\"\n",
              "     width=\"24px\">\n",
              "    <g>\n",
              "        <path d=\"M19 3H5c-1.1 0-2 .9-2 2v14c0 1.1.9 2 2 2h14c1.1 0 2-.9 2-2V5c0-1.1-.9-2-2-2zM9 17H7v-7h2v7zm4 0h-2V7h2v10zm4 0h-2v-4h2v4z\"/>\n",
              "    </g>\n",
              "</svg>\n",
              "      </button>\n",
              "\n",
              "<style>\n",
              "  .colab-df-quickchart {\n",
              "      --bg-color: #E8F0FE;\n",
              "      --fill-color: #1967D2;\n",
              "      --hover-bg-color: #E2EBFA;\n",
              "      --hover-fill-color: #174EA6;\n",
              "      --disabled-fill-color: #AAA;\n",
              "      --disabled-bg-color: #DDD;\n",
              "  }\n",
              "\n",
              "  [theme=dark] .colab-df-quickchart {\n",
              "      --bg-color: #3B4455;\n",
              "      --fill-color: #D2E3FC;\n",
              "      --hover-bg-color: #434B5C;\n",
              "      --hover-fill-color: #FFFFFF;\n",
              "      --disabled-bg-color: #3B4455;\n",
              "      --disabled-fill-color: #666;\n",
              "  }\n",
              "\n",
              "  .colab-df-quickchart {\n",
              "    background-color: var(--bg-color);\n",
              "    border: none;\n",
              "    border-radius: 50%;\n",
              "    cursor: pointer;\n",
              "    display: none;\n",
              "    fill: var(--fill-color);\n",
              "    height: 32px;\n",
              "    padding: 0;\n",
              "    width: 32px;\n",
              "  }\n",
              "\n",
              "  .colab-df-quickchart:hover {\n",
              "    background-color: var(--hover-bg-color);\n",
              "    box-shadow: 0 1px 2px rgba(60, 64, 67, 0.3), 0 1px 3px 1px rgba(60, 64, 67, 0.15);\n",
              "    fill: var(--button-hover-fill-color);\n",
              "  }\n",
              "\n",
              "  .colab-df-quickchart-complete:disabled,\n",
              "  .colab-df-quickchart-complete:disabled:hover {\n",
              "    background-color: var(--disabled-bg-color);\n",
              "    fill: var(--disabled-fill-color);\n",
              "    box-shadow: none;\n",
              "  }\n",
              "\n",
              "  .colab-df-spinner {\n",
              "    border: 2px solid var(--fill-color);\n",
              "    border-color: transparent;\n",
              "    border-bottom-color: var(--fill-color);\n",
              "    animation:\n",
              "      spin 1s steps(1) infinite;\n",
              "  }\n",
              "\n",
              "  @keyframes spin {\n",
              "    0% {\n",
              "      border-color: transparent;\n",
              "      border-bottom-color: var(--fill-color);\n",
              "      border-left-color: var(--fill-color);\n",
              "    }\n",
              "    20% {\n",
              "      border-color: transparent;\n",
              "      border-left-color: var(--fill-color);\n",
              "      border-top-color: var(--fill-color);\n",
              "    }\n",
              "    30% {\n",
              "      border-color: transparent;\n",
              "      border-left-color: var(--fill-color);\n",
              "      border-top-color: var(--fill-color);\n",
              "      border-right-color: var(--fill-color);\n",
              "    }\n",
              "    40% {\n",
              "      border-color: transparent;\n",
              "      border-right-color: var(--fill-color);\n",
              "      border-top-color: var(--fill-color);\n",
              "    }\n",
              "    60% {\n",
              "      border-color: transparent;\n",
              "      border-right-color: var(--fill-color);\n",
              "    }\n",
              "    80% {\n",
              "      border-color: transparent;\n",
              "      border-right-color: var(--fill-color);\n",
              "      border-bottom-color: var(--fill-color);\n",
              "    }\n",
              "    90% {\n",
              "      border-color: transparent;\n",
              "      border-bottom-color: var(--fill-color);\n",
              "    }\n",
              "  }\n",
              "</style>\n",
              "\n",
              "      <script>\n",
              "        async function quickchart(key) {\n",
              "          const quickchartButtonEl =\n",
              "            document.querySelector('#' + key + ' button');\n",
              "          quickchartButtonEl.disabled = true;  // To prevent multiple clicks.\n",
              "          quickchartButtonEl.classList.add('colab-df-spinner');\n",
              "          try {\n",
              "            const charts = await google.colab.kernel.invokeFunction(\n",
              "                'suggestCharts', [key], {});\n",
              "          } catch (error) {\n",
              "            console.error('Error during call to suggestCharts:', error);\n",
              "          }\n",
              "          quickchartButtonEl.classList.remove('colab-df-spinner');\n",
              "          quickchartButtonEl.classList.add('colab-df-quickchart-complete');\n",
              "        }\n",
              "        (() => {\n",
              "          let quickchartButtonEl =\n",
              "            document.querySelector('#df-91b5c1cc-1896-428d-bdae-9193d67106d0 button');\n",
              "          quickchartButtonEl.style.display =\n",
              "            google.colab.kernel.accessAllowed ? 'block' : 'none';\n",
              "        })();\n",
              "      </script>\n",
              "    </div>\n",
              "\n",
              "    </div>\n",
              "  </div>\n"
            ],
            "application/vnd.google.colaboratory.intrinsic+json": {
              "type": "dataframe",
              "variable_name": "df_github"
            }
          },
          "metadata": {},
          "execution_count": 5
        }
      ]
    },
    {
      "cell_type": "markdown",
      "source": [
        "## 4.5 Importar Datasets públicos desde Kaggle (Nivel Avanzado)\n",
        "\n",
        "\n",
        "> Para datasets públicos que no requieren autenticación\n",
        "\n"
      ],
      "metadata": {
        "id": "ZoP6qhipF5zu"
      }
    },
    {
      "cell_type": "markdown",
      "source": [
        "Cuando quieran descargar un dataset público desde Kaggle, hacer click en download y pegrn el código \"Download Via kagglehub\"\n",
        "<BR>\n",
        "En este caso vamos a descargar el dataset [Netflix Movies](https://www.kaggle.com/datasets/shivamb/netflix-shows/code)"
      ],
      "metadata": {
        "id": "-bDUYhhMbH0o"
      }
    },
    {
      "cell_type": "code",
      "source": [
        "import kagglehub\n",
        "\n",
        "# Download latest version\n",
        "path = kagglehub.dataset_download(\"shivamb/netflix-shows\")\n",
        "\n",
        "print(\"Path to dataset files:\", path)"
      ],
      "metadata": {
        "id": "dtYzg3RjMj9Q"
      },
      "execution_count": null,
      "outputs": []
    },
    {
      "cell_type": "markdown",
      "source": [
        "Kagglehub descarga sus archivos en un cache, path informa la ruta.\n",
        "<BR>\n",
        "Lo que hacemos es copiarlo a la carpeta \"datasets\" de nuestro drive"
      ],
      "metadata": {
        "id": "jZubEQ-ibGC1"
      }
    },
    {
      "cell_type": "code",
      "source": [
        "# Montar la unidad\n",
        "from google.colab import drive\n",
        "drive.mount('/content/drive')"
      ],
      "metadata": {
        "id": "zp98bNoFaS00"
      },
      "execution_count": null,
      "outputs": []
    },
    {
      "cell_type": "code",
      "source": [
        "import os, shutil\n",
        "# Carpeta destino\n",
        "dest_dir = \"/content/drive/MyDrive/datasets/\"\n",
        "\n",
        "# Copiar todos los archivos del dataset al destino\n",
        "for file in os.listdir(path):\n",
        "    shutil.copy(os.path.join(path, file), dest_dir)\n",
        "\n",
        "print(\"Archivos copiados a:\", dest_dir)\n",
        "print(\"Contenido:\", os.listdir(dest_dir))"
      ],
      "metadata": {
        "id": "6x9x8bzdZxdF"
      },
      "execution_count": null,
      "outputs": []
    },
    {
      "cell_type": "code",
      "source": [
        "# Usar el método read_csv de Pandas (pd) que recibe como argumento el archivo csv y retorna un dataframe\n",
        "df = pd.read_csv(f\"{path}/netflix_titles.csv\")\n",
        "df.head()"
      ],
      "metadata": {
        "id": "5BiSK3f4M_5h"
      },
      "execution_count": null,
      "outputs": []
    },
    {
      "cell_type": "markdown",
      "source": [
        "## 4.6 Importar Datasets privados desde Kaggle (Nivel Avanzado)\n",
        "\n",
        "\n",
        "> Para datasets privados que si requieren autenticación"
      ],
      "metadata": {
        "id": "WIA6SNeKcIcu"
      }
    },
    {
      "cell_type": "markdown",
      "source": [
        "Crear una carpeta en el raíz del Drive llamada `kaggle` y pegar el archivo `kaggle.json` (API Token) que generan desde su perfil de Kaggle"
      ],
      "metadata": {
        "id": "6dm-mx94aerh"
      }
    },
    {
      "cell_type": "code",
      "source": [
        "# Montar la unidad\n",
        "from google.colab import drive\n",
        "drive.mount('/content/drive')"
      ],
      "metadata": {
        "id": "BR314at2F8F3"
      },
      "execution_count": null,
      "outputs": []
    },
    {
      "cell_type": "code",
      "source": [
        "# Validar la existencia del JSON\n",
        "import os\n",
        "os.listdir(\"/content/drive/MyDrive/kaggle\")"
      ],
      "metadata": {
        "id": "QDu-IQntIRrY"
      },
      "execution_count": null,
      "outputs": []
    },
    {
      "cell_type": "markdown",
      "source": [
        "Este código crear una carpeta kaggle en el raíz y la segunda linea un copy/paste de `kaggle.json`"
      ],
      "metadata": {
        "id": "tTMW5jC_cgv2"
      }
    },
    {
      "cell_type": "code",
      "source": [
        "!mkdir -p ~/.kaggle\n",
        "!cp /content/drive/MyDrive/kaggle/kaggle.json ~/.kaggle/\n",
        "!chmod 600 ~/.kaggle/kaggle.json"
      ],
      "metadata": {
        "id": "3lDWa_cxHepx"
      },
      "execution_count": null,
      "outputs": []
    },
    {
      "cell_type": "markdown",
      "source": [
        "En este caso vamos a descargar el mismo dataset [Netflix Movies](https://www.kaggle.com/datasets/shivamb/netflix-shows/code)\n",
        "<BR>\n",
        "Aunque al ser público esto no es necesario\n"
      ],
      "metadata": {
        "id": "xc2jTvBGckic"
      }
    },
    {
      "cell_type": "code",
      "source": [
        "# Este código descarga el dataset con las credenciales\n",
        "!kaggle datasets download -d shivamb/netflix-shows -p /content/drive/MyDrive/datasets\n",
        "!unzip /content/drive/MyDrive/datasets/netflix-shows.zip -d /content/drive/MyDrive/datasets"
      ],
      "metadata": {
        "id": "y5qW5xY7Hvqh"
      },
      "execution_count": null,
      "outputs": []
    },
    {
      "cell_type": "code",
      "source": [
        "# Validar la existencia del archivo descargado\n",
        "import os\n",
        "os.listdir(\"/content/drive/MyDrive/datasets\")"
      ],
      "metadata": {
        "id": "TBcs2fWCdU67"
      },
      "execution_count": null,
      "outputs": []
    },
    {
      "cell_type": "code",
      "source": [
        "# Importar la librería Pandas\n",
        "import pandas as pd"
      ],
      "metadata": {
        "id": "Jw5mjWQ2WwYk"
      },
      "execution_count": null,
      "outputs": []
    },
    {
      "cell_type": "code",
      "source": [
        "df = pd.read_csv(\"/content/drive/MyDrive/datasets/netflix_titles.csv\")\n",
        "print(df.shape)   # filas y columnas\n",
        "df.head()         # primeras 5 filas"
      ],
      "metadata": {
        "id": "RH4MLEIUa0EH"
      },
      "execution_count": null,
      "outputs": []
    }
  ]
}